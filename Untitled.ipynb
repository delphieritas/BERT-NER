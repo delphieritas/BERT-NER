{
 "cells": [
  {
   "cell_type": "code",
   "execution_count": null,
   "metadata": {},
   "outputs": [],
   "source": [
    "!python BERT_NER.py\\\n",
    "    --task_name=\"NER\"  \\\n",
    "    --do_lower_case=False \\\n",
    "    --crf=True \\\n",
    "    --do_train=True   \\\n",
    "    --do_eval=True   \\\n",
    "    --do_predict=True \\\n",
    "    --data_dir=data   \\\n",
    "    --vocab_file=uncased_L-24_H-1024_A-16/vocab.txt  \\\n",
    "    --bert_config_file=uncased_L-24_H-1024_A-16/bert_config.json \\\n",
    "    --init_checkpoint=uncased_L-24_H-1024_A-16/bert_model.ckpt   \\\n",
    "    --max_seq_length=128   \\\n",
    "    --train_batch_size=32   \\\n",
    "    --learning_rate=2e-5   \\\n",
    "    --num_train_epochs=4.0   \\\n",
    "    --output_dir=./output/result_\n",
    "\n",
    "!perl conlleval.pl -d '\\t' < ./output/result_dir/label_test_copy.txt"
   ]
  },
  {
   "cell_type": "code",
   "execution_count": null,
   "metadata": {},
   "outputs": [],
   "source": []
  }
 ],
 "metadata": {
  "kernelspec": {
   "display_name": "Python 3",
   "language": "python",
   "name": "python3"
  },
  "language_info": {
   "codemirror_mode": {
    "name": "ipython",
    "version": 3
   },
   "file_extension": ".py",
   "mimetype": "text/x-python",
   "name": "python",
   "nbconvert_exporter": "python",
   "pygments_lexer": "ipython3",
   "version": "3.7.3"
  }
 },
 "nbformat": 4,
 "nbformat_minor": 2
}
